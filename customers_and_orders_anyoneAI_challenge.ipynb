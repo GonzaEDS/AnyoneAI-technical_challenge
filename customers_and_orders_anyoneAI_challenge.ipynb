{
  "cells": [
    {
      "cell_type": "markdown",
      "metadata": {
        "id": "piiX_CRNFYUi"
      },
      "source": [
        "# Technical Challenge ! Custiomers and Orders - The lifeblood of any business!\n",
        "\n",
        "This notebook depends on two data files: customers.scv and orders.csv. These files are hosted in the cloud (or Github), so for simplicity, we are providing you with the code to download and save the two files in a folder called 'sample_data' which lives within this notebook session (not on your local computer nor Google Drive).\n",
        "\n",
        "![sample_data folder in notebook session](https://raw.githubusercontent.com/anyoneai/notebooks/main/customers_and_orders/images/sample_data_folder.png)\n",
        "\n",
        "Please execute the first code snippet before moving to the rest of the exercise as this code will import the data from the files for you to be able to execute the rest of the exercise.\n",
        "\n",
        "Remember as we said in the previous lecture, you have to save this notebook into your Google Drive by going to menu File/Save a Copy In Drive, or clicking in the button \"Copy to Drive\". This way, you will not lose any work you've done and the file will persist with your latest changes in your Google Drive. Also we recommend you to rename your .ipynb in your Google Drive, so you can easily find it in the future."
      ]
    },
    {
      "cell_type": "code",
      "execution_count": 2,
      "metadata": {
        "colab": {
          "base_uri": "https://localhost:8080/"
        },
        "id": "MWpVO242FQHC",
        "outputId": "ab19b4fe-4965-4ff2-e965-a42e90955e0a"
      },
      "outputs": [
        {
          "output_type": "stream",
          "name": "stdout",
          "text": [
            "Customers and orders CSV files have been added './sample_data'\n"
          ]
        }
      ],
      "source": [
        "import requests\n",
        "\n",
        "def import_data_files():\n",
        "  r = requests.get('https://raw.githubusercontent.com/anyoneai/notebooks/main/customers_and_orders/data/customers.csv')\n",
        "  with open('./sample_data/customers.csv', 'wb') as f:\n",
        "    f.write(r.content)\n",
        "\n",
        "  r = requests.get('https://raw.githubusercontent.com/anyoneai/notebooks/main/customers_and_orders/data/orders.csv')\n",
        "  with open('./sample_data/orders.csv', 'wb') as f:\n",
        "    f.write(r.content)\n",
        "\n",
        "import_data_files()\n",
        "print(\"Customers and orders CSV files have been added './sample_data'\")"
      ]
    },
    {
      "cell_type": "markdown",
      "metadata": {
        "id": "JQAduY-RWKyB"
      },
      "source": [
        "# Exercise 1: Processing Customers data (difficulty medium)\n",
        "\n",
        "The sample customer data in 'customers.csv' file has just 5 columns: CustomerId, First Name, Last Name, City and State\n",
        "\n",
        "![Data sample](https://raw.githubusercontent.com/anyoneai/notebooks/main/customers_and_orders/images/customers.png)\n",
        "\n",
        "We strongly recommend that you complete from the [Prep Course: Intro to Python](https://colab.research.google.com/github/anyoneai/notebooks/blob/main/python3_crash_course.ipynb) the following section:\n",
        "- Section 7: File I/O (to understand how to read CSV file)\n",
        "- Section 6: For Loop (to navigate the contents of the CSV file)\n",
        "- Section 5: Tuples, Lists, and Dictionaries (to manipulate the data of the CSV file)\n",
        "\n",
        "With this, we hope you can complete this exercise successfully. Although if you want to solve this with libraries or any other way, you are welcome to do it your way.\n",
        "\n",
        "*Hint:* We advise you to take a look at the data before you start.\n",
        "**if you want to manually take a look at the data before you start, please see the content of the data [here](https://github.com/anyoneai/notebooks/blob/main/customers_and_orders/data/customers.csv).\n",
        "\n",
        "*Hint*: There are many ways to do this exercise you can do your own, although here's some help. You can solve this exercise reading and parsing CSV files, structuring data into dictionaries, and using for loops to navigate the contents\n",
        "\n",
        "*Hint*: Also, keep in mind that data might not be clean and you might have to figure out how to deal with that data from the code, without having to modify the data source.\n",
        "\n",
        "Below are the 5 questions you'll have to answer to pass the evaluation:"
      ]
    },
    {
      "cell_type": "markdown",
      "metadata": {
        "id": "kJq7S8sBfbOW"
      },
      "source": [
        "**Question 1:** How many customers are in the file?\n",
        "(as help, we have added some comments and starter code to help you structure the solution)"
      ]
    },
    {
      "cell_type": "code",
      "execution_count": 103,
      "metadata": {
        "colab": {
          "base_uri": "https://localhost:8080/"
        },
        "id": "oMnUFBFb2RUb",
        "outputId": "9bb32029-89fb-4713-a778-ca3b1ed60bad"
      },
      "outputs": [
        {
          "output_type": "stream",
          "name": "stdout",
          "text": [
            "The amount of customers in the file is 603\n",
            "All done!\n"
          ]
        }
      ],
      "source": [
        "from os.path import exists\n",
        "import csv\n",
        "\n",
        "# check if file can be found and open the file\n",
        "datafile = \"./sample_data/customers.csv\"\n",
        "if not exists(datafile):\n",
        "  raise SystemExit(\"You should run the first code cell and download the dataset files!\")\n",
        "\n",
        "# customers file is in the sample_data folder and can be opened.\n",
        "# Using csv reader is one way of dealing with the file\n",
        "# but it's up to you how you want to proceed\n",
        "with open(datafile, 'r') as fl:\n",
        "  csvreader = csv.reader(fl, delimiter=',')\n",
        "\n",
        "  # loop through the rows and count etc. THE REST IS UP TO YOU!\n",
        "  print(f'The amount of customers in the file is {sum(1 for i in csvreader)}')\n",
        "\n",
        "\n",
        "print(\"All done!\")"
      ]
    },
    {
      "cell_type": "markdown",
      "metadata": {
        "id": "uffBnNgz_570"
      },
      "source": [
        "**Question 2:** In how many different states do the customers live in?"
      ]
    },
    {
      "cell_type": "code",
      "execution_count": 104,
      "metadata": {
        "id": "Bi_yid0sMe3-",
        "colab": {
          "base_uri": "https://localhost:8080/"
        },
        "outputId": "b1e0fdc1-ddba-4a06-dd14-898c9e367b1f"
      },
      "outputs": [
        {
          "output_type": "stream",
          "name": "stdout",
          "text": [
            "The amount of different states the customers live in is 14\n"
          ]
        }
      ],
      "source": [
        "# open file and init var\n",
        "with open(datafile, 'r') as fl:\n",
        "  csvreader = csv.DictReader(fl)\n",
        "# evaluate the contents of the file\n",
        "  cities = {customer['State'].strip().upper() for customer in csvreader}\n",
        "  print(f'The amount of different states the customers live in is {len(cities)}')\n"
      ]
    },
    {
      "cell_type": "markdown",
      "metadata": {
        "id": "DC59SZYiMfNY"
      },
      "source": [
        "**Question 3** What is the state with most customers?"
      ]
    },
    {
      "cell_type": "code",
      "execution_count": 105,
      "metadata": {
        "id": "tfGU3w-OMhA9",
        "colab": {
          "base_uri": "https://localhost:8080/"
        },
        "outputId": "db950df0-daea-4285-c041-68e25dff3443"
      },
      "outputs": [
        {
          "output_type": "stream",
          "name": "stdout",
          "text": [
            "The state with most customers is CA\n"
          ]
        }
      ],
      "source": [
        "# open file and init vars\n",
        "with open(datafile, 'r') as fl:\n",
        "  csvreader = csv.DictReader(fl, delimiter=',')\n",
        "# evaluate the contents of the file\n",
        "  customers_by_city = {}\n",
        "  for customer in csvreader:\n",
        "    state = customer['State'].strip().upper()\n",
        "    if state not in customers_by_city:\n",
        "      customers_by_city[state] = 1\n",
        "    else:\n",
        "      customers_by_city[state] +=1\n",
        "  max_customers = max(customers_by_city.values())\n",
        "  max_index = list(customers_by_city.values()).index(max_customers)\n",
        "  print(f'The state with most customers is {list(customers_by_city.keys())[max_index]}')\n",
        "\n"
      ]
    },
    {
      "cell_type": "markdown",
      "metadata": {
        "id": "7mcM6cUAMhLB"
      },
      "source": [
        "**Question 4** What is the state with the least customers?"
      ]
    },
    {
      "cell_type": "code",
      "execution_count": 110,
      "metadata": {
        "id": "8T0Ka2RqMi3P",
        "colab": {
          "base_uri": "https://localhost:8080/"
        },
        "outputId": "89e30cb2-a771-4697-8dee-d0aebf0aae98"
      },
      "outputs": [
        {
          "output_type": "stream",
          "name": "stdout",
          "text": [
            " The states with the least amount of customres are ID, IN, MA, NH, OR, WA\n"
          ]
        }
      ],
      "source": [
        "# open file and init vars\n",
        "with open(datafile, 'r') as fl:\n",
        "  csvreader = csv.DictReader(fl, delimiter=',')\n",
        "# evaluate the contents of the file\n",
        "  customers_by_city = {}\n",
        "  for customer in csvreader:\n",
        "    state = customer['State'].strip().upper()\n",
        "    if state not in customers_by_city:\n",
        "      customers_by_city[state] = 1\n",
        "    else:\n",
        "      customers_by_city[state] +=1\n",
        "  min_customers = min(customers_by_city.values())\n",
        "  min_index = list(customers_by_city.values()).index(min_customers)\n",
        "  list_of_mins = []\n",
        "  for state in customers_by_city:\n",
        "    if customers_by_city[state] == min_customers:\n",
        "      list_of_mins.append(state)\n",
        "  print(f' The states with the least amount of customres are {\", \".join(sorted(list_of_mins))}')\n"
      ]
    },
    {
      "cell_type": "markdown",
      "metadata": {
        "id": "h6fIy7hXHF6A"
      },
      "source": [
        "**Question 5:** What is the most common last name?"
      ]
    },
    {
      "cell_type": "code",
      "execution_count": 111,
      "metadata": {
        "id": "k8M1DmA75Km7",
        "colab": {
          "base_uri": "https://localhost:8080/"
        },
        "outputId": "f4efbbdf-a3b4-45ae-8704-af64aadb1499"
      },
      "outputs": [
        {
          "output_type": "stream",
          "name": "stdout",
          "text": [
            "The most common last name is Smith\n"
          ]
        }
      ],
      "source": [
        "# open file and init vars\n",
        "with open(datafile, 'r') as fl:\n",
        "  csvreader = csv.DictReader(fl)\n",
        "# evaluate the contents of the file\n",
        "  customers_for_ln = {}\n",
        "  for customer in csvreader:\n",
        "    last_name = customer['LastName'].strip().title()\n",
        "    if last_name not in customers_for_ln:\n",
        "      customers_for_ln[last_name] = 1\n",
        "    else:\n",
        "      customers_for_ln[last_name] += 1\n",
        "  max_ln = max(customers_for_ln.values())\n",
        "  max_ln_idx = list(customers_for_ln.values()).index(max_ln)\n",
        "\n",
        "  print(f'The most common last name is {list(customers_for_ln.keys())[max_ln_idx]}')\n"
      ]
    },
    {
      "cell_type": "markdown",
      "metadata": {
        "id": "YPRma1t9NoFk"
      },
      "source": [
        "# Exercise 2: Processing Orders data (difficulty high)\n",
        "\n",
        "The second sample files contains orders placed by customers from the first file. Be careful, this file has many rows and you most likely should not print the contents of the whole file.\n",
        "\n",
        "The file contains the following columns: CustomerID, OrderID, Date, OrderTotal, ProductName, Price\n",
        "\n",
        "![Data sample](https://raw.githubusercontent.com/anyoneai/notebooks/main/customers_and_orders/images/orders.png)\n",
        "\n",
        "*Hint:* We advise you to take a look at the data before you start.\n",
        "**if you want to manually take a look at the data before you start, please see the content of the data [here](https://raw.githubusercontent.com/anyoneai/notebooks/main/customers_and_orders/data/orders.csv).\n",
        "\n",
        "*Hint*: There are many ways to do this exercise you can do your own, although here's some help. You can solve this exercise reading and parsing CSV files, structuring data into dictionaries, and using for loops to navigate the contents\n",
        "\n",
        "*Hint*: Also, the data is not clean and you will have to figure out how to deal with that data from the code, without having to modify the data source.\n",
        "\n",
        "\n",
        "\n",
        "**Question #1:** How many unique orders are in the orders.csv file?\n",
        "\n",
        "**Question #2:** What is the average number of items per order (rounded to two decimal places)?\n",
        "\n",
        "**Question #3:** What is the highest number of items per order?\n",
        "\n",
        "**Question #4:** What is the number of orders placed in October 2021?\n",
        "\n",
        "**Question #5:** Which customer spent the most amount of money in 2021?\n",
        "\n",
        "**Question #6:** Historically, what is the best month for sales?\n",
        "\n",
        "Once you get your answers, remember to go back to the course and introduce them in the multiple choice quiz"
      ]
    },
    {
      "cell_type": "code",
      "execution_count": 97,
      "metadata": {
        "id": "8ipJTrfs5QVM",
        "colab": {
          "base_uri": "https://localhost:8080/"
        },
        "outputId": "d692e618-a8d5-4c5a-bc0c-a07d9ae88ec1"
      },
      "outputs": [
        {
          "output_type": "stream",
          "name": "stdout",
          "text": [
            "\n",
            "  Question #1: The amount of unique orders is 16672\n",
            "  Question #2: The average number of items per order (rounded to two decimal places) is 1.76\n",
            "  Question #3: The highes number of items per order is 35    \n",
            "  Question #4: The number of orders placed in October 2021 is 267 \n",
            "  Question #5: The customer who spent the most amount of money in 2021 was ID 5172443\n",
            "  Question #6: Historically, the best month for sales is:\n",
            "    as the most frequent best month through years: November\n",
            "    as the highest average of the total by month trough all years: January\n",
            "        \n"
          ]
        }
      ],
      "source": [
        "months = {\n",
        "    '01': 'January',\n",
        "    '02': 'February',\n",
        "    '03': 'March',\n",
        "    '04': 'April',\n",
        "    '05': 'May',\n",
        "    '06': 'June',\n",
        "    '07': 'July',\n",
        "    '08': 'August',\n",
        "    '09': 'September',\n",
        "    '10': 'October',\n",
        "    '11': 'November',\n",
        "    '12': 'December'\n",
        "}\n",
        "datafile_orders = \"./sample_data/orders.csv\"\n",
        "with open(datafile_orders, 'r') as fl:\n",
        "  csvreader = csv.DictReader(fl)\n",
        "  order_items = {}\n",
        "  orders_by_month = {}\n",
        "  year_customer_total ={}\n",
        "  total_by_month = {}\n",
        "\n",
        "  for order in csvreader:\n",
        "    order_id = order['OrderID'].strip()\n",
        "    customer_id = order['CustomerID'].strip()\n",
        "    order_total = order['OrderTotal'].strip()\n",
        "    product = order['ProductName'].strip().lower()\n",
        "      # if year not in year_customer_total:\n",
        "      #   year_customer_total[year] =\n",
        "    if order_id not in order_items:\n",
        "      if order['Date']:\n",
        "        year, month, day = order['Date'].split(' ')[0].split('-')\n",
        "        if year not in orders_by_month:\n",
        "          orders_by_month[year] = {month:set({order_id})}\n",
        "        else:\n",
        "          if month not in orders_by_month[year]:\n",
        "            orders_by_month[year][month] = set({order_id})\n",
        "          else:\n",
        "            orders_by_month[year][month].add(order_id)\n",
        "        if year not in year_customer_total:\n",
        "          year_customer_total[year] = {customer_id:float(order_total)}\n",
        "        else:\n",
        "          if customer_id not in year_customer_total[year]:\n",
        "            year_customer_total[year][customer_id] = float(order_total)\n",
        "          else:\n",
        "            year_customer_total[year][customer_id] += float(order_total)\n",
        "        if year not in total_by_month:\n",
        "          total_by_month[year] = {month:float(order_total)}\n",
        "        else:\n",
        "          if month not in total_by_month[year]:\n",
        "            total_by_month[year][month] = float(order_total)\n",
        "          else:\n",
        "            total_by_month[year][month] += float(order_total)\n",
        "\n",
        "\n",
        "\n",
        "      order_items[order_id] = [product]\n",
        "    else:\n",
        "      order_items[order_id].append(product)\n",
        "\n",
        "\n",
        "  total_items = sum(len(items) for items in order_items.values())\n",
        "  orders_amount = len(order_items.keys())\n",
        "  average_items_per_order = total_items/orders_amount\n",
        "  highest_items_per_order = max(len(items) for items in order_items.values())\n",
        "  highest_spending_customer_2021 = list(year_customer_total['2021'].keys())[list(year_customer_total['2021'].values()).index(max(year_customer_total['2021'].values()))]\n",
        "  best_month_year = {}\n",
        "  total_by_month_all_years = {}\n",
        "  for key, value in total_by_month.items():\n",
        "    best_month_year[key] = list(value.keys())[list(value.values()).index(max(list(value.values())))]\n",
        "  best_month_times = {}\n",
        "  for month in best_month_year.values():\n",
        "    if month not in best_month_times:\n",
        "      best_month_times[month] = 1\n",
        "    else:\n",
        "      best_month_times[month] +=1\n",
        "  for year in total_by_month:\n",
        "    for month, total in total_by_month[year].items():\n",
        "      if month not in total_by_month_all_years:\n",
        "        total_by_month_all_years[month] = total\n",
        "      else:\n",
        "        total_by_month_all_years[month] += total\n",
        "\n",
        "  month_historic_avg_list = map(lambda month: month/len(orders_by_month.keys()), total_by_month_all_years.values())\n",
        "  month_hist_avg = dict(zip(total_by_month_all_years.keys(), month_historic_avg_list))\n",
        "  month_highest_hist_avg = list(month_hist_avg.keys())[list(month_hist_avg.values()).index(max(month_hist_avg.values()))]\n",
        "\n",
        "\n",
        "  more_frequent_best_month = list(best_month_times.keys())[list(best_month_times.values()).index(max(list(best_month_times.values())))]\n",
        "  print( f'''\n",
        "  Question #1: The amount of unique orders is {orders_amount}\n",
        "  Question #2: The average number of items per order (rounded to two decimal places) is {average_items_per_order:.2f}\n",
        "  Question #3: The highes number of items per order is {highest_items_per_order}\n",
        "  Question #4: The number of orders placed in October 2021 is {len(orders_by_month['2021']['10'])}\n",
        "  Question #5: The customer who spent the most amount of money in 2021 was ID {highest_spending_customer_2021}\n",
        "  Question #6: Historically, the best month for sales is:\n",
        "    as the most frequent best month through years: {months[more_frequent_best_month]}\n",
        "    as the highest average of the total by month trough all years: {months[month_highest_hist_avg]}\n",
        "        ''')\n",
        "\n"
      ]
    },
    {
      "cell_type": "markdown",
      "metadata": {
        "id": "ie0JW4FAk6Os"
      },
      "source": [
        "# Finished!\n",
        "\n",
        "Hope this was not too difficult and slicing and dicing the datasets was some fun. Now head on back to the course and provide the answers to the questions from this exercise."
      ]
    }
  ],
  "metadata": {
    "colab": {
      "provenance": []
    },
    "kernelspec": {
      "display_name": "Python 3 (ipykernel)",
      "language": "python",
      "name": "python3"
    },
    "language_info": {
      "codemirror_mode": {
        "name": "ipython",
        "version": 3
      },
      "file_extension": ".py",
      "mimetype": "text/x-python",
      "name": "python",
      "nbconvert_exporter": "python",
      "pygments_lexer": "ipython3",
      "version": "3.9.9"
    }
  },
  "nbformat": 4,
  "nbformat_minor": 0
}